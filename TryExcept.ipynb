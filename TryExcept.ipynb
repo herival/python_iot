{
 "cells": [
  {
   "cell_type": "markdown",
   "metadata": {},
   "source": [
    "# Exemples Try except\n",
    "\n",
    "Quelques exemples sur l'implémentation de Try except finally"
   ]
  },
  {
   "cell_type": "markdown",
   "metadata": {},
   "source": [
    "## Traitement sans erreur\n",
    "Le code propose de diviser 10 par tous les entiers inférieurs :"
   ]
  },
  {
   "cell_type": "code",
   "execution_count": 2,
   "metadata": {},
   "outputs": [
    {
     "name": "stdout",
     "output_type": "stream",
     "text": [
      "1.0\n",
      "1.1111111111111112\n",
      "1.25\n",
      "1.4285714285714286\n",
      "1.6666666666666667\n",
      "2.0\n",
      "2.5\n",
      "3.3333333333333335\n",
      "5.0\n",
      "10.0\n",
      "sortie du programme\n"
     ]
    }
   ],
   "source": [
    "try:\n",
    "    divise = 10\n",
    "    for elt in range(10,0,-1):\n",
    "        print(divise/elt)\n",
    "finally :\n",
    "    print(\"sortie du programme\")"
   ]
  },
  {
   "cell_type": "markdown",
   "metadata": {},
   "source": [
    "L'exécution du code ne génère pas d'erreur. Notez le passage dans finally et l'affichage du message"
   ]
  },
  {
   "cell_type": "markdown",
   "metadata": {},
   "source": [
    "## Levée d'exception\n",
    "\n",
    "Dans cette version, on provoque une division par zéro :"
   ]
  },
  {
   "cell_type": "code",
   "execution_count": 3,
   "metadata": {},
   "outputs": [
    {
     "name": "stdout",
     "output_type": "stream",
     "text": [
      "1.0\n",
      "1.1111111111111112\n",
      "1.25\n",
      "1.4285714285714286\n",
      "1.6666666666666667\n",
      "2.0\n",
      "2.5\n",
      "3.3333333333333335\n",
      "5.0\n",
      "10.0\n",
      "sortie du programme\n"
     ]
    },
    {
     "ename": "ZeroDivisionError",
     "evalue": "division by zero",
     "output_type": "error",
     "traceback": [
      "\u001b[1;31m---------------------------------------------------------------------------\u001b[0m",
      "\u001b[1;31mZeroDivisionError\u001b[0m                         Traceback (most recent call last)",
      "\u001b[1;32m<ipython-input-3-6b372b3e7d5f>\u001b[0m in \u001b[0;36m<module>\u001b[1;34m\u001b[0m\n\u001b[0;32m      2\u001b[0m     \u001b[0mdivise\u001b[0m \u001b[1;33m=\u001b[0m \u001b[1;36m10\u001b[0m\u001b[1;33m\u001b[0m\u001b[1;33m\u001b[0m\u001b[0m\n\u001b[0;32m      3\u001b[0m     \u001b[1;32mfor\u001b[0m \u001b[0melt\u001b[0m \u001b[1;32min\u001b[0m \u001b[0mrange\u001b[0m\u001b[1;33m(\u001b[0m\u001b[1;36m10\u001b[0m\u001b[1;33m,\u001b[0m\u001b[1;33m-\u001b[0m\u001b[1;36m1\u001b[0m\u001b[1;33m,\u001b[0m\u001b[1;33m-\u001b[0m\u001b[1;36m1\u001b[0m\u001b[1;33m)\u001b[0m\u001b[1;33m:\u001b[0m\u001b[1;33m\u001b[0m\u001b[1;33m\u001b[0m\u001b[0m\n\u001b[1;32m----> 4\u001b[1;33m         \u001b[0mprint\u001b[0m\u001b[1;33m(\u001b[0m\u001b[0mdivise\u001b[0m\u001b[1;33m/\u001b[0m\u001b[0melt\u001b[0m\u001b[1;33m)\u001b[0m\u001b[1;33m\u001b[0m\u001b[1;33m\u001b[0m\u001b[0m\n\u001b[0m\u001b[0;32m      5\u001b[0m \u001b[1;33m\u001b[0m\u001b[0m\n\u001b[0;32m      6\u001b[0m \u001b[1;32mfinally\u001b[0m \u001b[1;33m:\u001b[0m\u001b[1;33m\u001b[0m\u001b[1;33m\u001b[0m\u001b[0m\n",
      "\u001b[1;31mZeroDivisionError\u001b[0m: division by zero"
     ]
    }
   ],
   "source": [
    "try:\n",
    "    divise = 10\n",
    "    for elt in range(10,-1,-1):\n",
    "        print(divise/elt)\n",
    "\n",
    "finally :\n",
    "    print(\"sortie du programme\")"
   ]
  },
  {
   "cell_type": "markdown",
   "metadata": {},
   "source": [
    "Notez l'affichage du message avant la remontée d'exception"
   ]
  },
  {
   "cell_type": "markdown",
   "metadata": {},
   "source": [
    "## Programmation défensive\n",
    "Ce code contient une division par zéro mais une programmation défensive est mise en oeuvre pour formater le message retour à l'utilisateur :"
   ]
  },
  {
   "cell_type": "code",
   "execution_count": 4,
   "metadata": {},
   "outputs": [
    {
     "name": "stdout",
     "output_type": "stream",
     "text": [
      "1.0\n",
      "1.1111111111111112\n",
      "1.25\n",
      "1.4285714285714286\n",
      "1.6666666666666667\n",
      "2.0\n",
      "2.5\n",
      "3.3333333333333335\n",
      "5.0\n",
      "10.0\n",
      "division by zero : vous avez fait une erreur\n",
      "sortie du programme\n"
     ]
    }
   ],
   "source": [
    "try:\n",
    "    divise = 10\n",
    "    for elt in range(10,-1,-1):\n",
    "        print(divise/elt)\n",
    "\n",
    "except ZeroDivisionError as erreurdudebutant:\n",
    "    print(erreurdudebutant,\":\",\"vous avez fait une erreur\")\n",
    "finally :\n",
    "    print(\"sortie du programme\")"
   ]
  },
  {
   "cell_type": "code",
   "execution_count": null,
   "metadata": {},
   "outputs": [],
   "source": []
  }
 ],
 "metadata": {
  "kernelspec": {
   "display_name": "Python 3",
   "language": "python",
   "name": "python3"
  },
  "language_info": {
   "codemirror_mode": {
    "name": "ipython",
    "version": 3
   },
   "file_extension": ".py",
   "mimetype": "text/x-python",
   "name": "python",
   "nbconvert_exporter": "python",
   "pygments_lexer": "ipython3",
   "version": "3.7.4"
  }
 },
 "nbformat": 4,
 "nbformat_minor": 2
}
