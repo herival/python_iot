{
 "cells": [
  {
   "cell_type": "markdown",
   "metadata": {},
   "source": [
    "# Map, filter, reduce"
   ]
  },
  {
   "cell_type": "markdown",
   "metadata": {},
   "source": [
    "## Map\n",
    "Appliquer une même fonction à tous les éléments d'une séquence. Renvoie un itérateur pour parcourir les résultats"
   ]
  },
  {
   "cell_type": "code",
   "execution_count": 24,
   "metadata": {},
   "outputs": [],
   "source": [
    "nains = ['Prof', 'Timide', 'Atchoum', 'Dormeur', 'Joyeux', 'Grincheux', 'Simplet']"
   ]
  },
  {
   "cell_type": "code",
   "execution_count": 25,
   "metadata": {},
   "outputs": [
    {
     "data": {
      "text/plain": [
       "<map at 0x5469330>"
      ]
     },
     "execution_count": 25,
     "metadata": {},
     "output_type": "execute_result"
    }
   ],
   "source": [
    "map(len,nains)"
   ]
  },
  {
   "cell_type": "code",
   "execution_count": 26,
   "metadata": {},
   "outputs": [
    {
     "data": {
      "text/plain": [
       "[4, 6, 7, 7, 6, 9, 7]"
      ]
     },
     "execution_count": 26,
     "metadata": {},
     "output_type": "execute_result"
    }
   ],
   "source": [
    "list (map (len, nains))"
   ]
  },
  {
   "cell_type": "code",
   "execution_count": 27,
   "metadata": {},
   "outputs": [
    {
     "name": "stdout",
     "output_type": "stream",
     "text": [
      "4\n",
      "6\n",
      "7\n",
      "7\n",
      "6\n",
      "9\n",
      "7\n"
     ]
    }
   ],
   "source": [
    "for n in map(len, nains): print (n)"
   ]
  },
  {
   "cell_type": "markdown",
   "metadata": {},
   "source": [
    "# Filter\n",
    "Filter sélectionne les éléments d'une séquence. Le critère est donné par une fonction dont le résultat est interprété comme booléen Filter retourne un itérateur"
   ]
  },
  {
   "cell_type": "code",
   "execution_count": 28,
   "metadata": {},
   "outputs": [
    {
     "data": {
      "text/plain": [
       "<filter at 0x5469910>"
      ]
     },
     "execution_count": 28,
     "metadata": {},
     "output_type": "execute_result"
    }
   ],
   "source": [
    "filter(lambda x: len(x)>6, nains)"
   ]
  },
  {
   "cell_type": "code",
   "execution_count": 29,
   "metadata": {},
   "outputs": [
    {
     "data": {
      "text/plain": [
       "['Atchoum', 'Dormeur', 'Grincheux', 'Simplet']"
      ]
     },
     "execution_count": 29,
     "metadata": {},
     "output_type": "execute_result"
    }
   ],
   "source": [
    "list(filter(lambda x: len(x)>6, nains))"
   ]
  },
  {
   "cell_type": "markdown",
   "metadata": {},
   "source": [
    "## Reduce\n",
    "Applique une fonction à deux arguments au premier élément d'une séquence et au Reduce du reste de la\n",
    "séquence"
   ]
  },
  {
   "cell_type": "code",
   "execution_count": 30,
   "metadata": {},
   "outputs": [
    {
     "data": {
      "text/plain": [
       "'Prof-Timide-Atchoum-Dormeur-Joyeux-Grincheux-Simplet'"
      ]
     },
     "execution_count": 30,
     "metadata": {},
     "output_type": "execute_result"
    }
   ],
   "source": [
    "from functools import reduce\n",
    "reduce( lambda x,y: str(x)+\"-\"+str(y), nains)"
   ]
  },
  {
   "cell_type": "markdown",
   "metadata": {},
   "source": [
    "Vous n’avez rien compris ? C’est logique. reduce() est une fonction particulièrement compliquée et elle ne trouve que peu d'application enr aison de son caractère récursif"
   ]
  },
  {
   "cell_type": "code",
   "execution_count": 31,
   "metadata": {},
   "outputs": [
    {
     "name": "stdout",
     "output_type": "stream",
     "text": [
      "Paramètre en entrée :\t 0 1\n",
      "Résultat de afficher :\t 1\n",
      "Paramètre en entrée :\t 1 2\n",
      "Résultat de afficher :\t 3\n",
      "Paramètre en entrée :\t 3 3\n",
      "Résultat de afficher :\t 6\n",
      "Paramètre en entrée :\t 6 4\n",
      "Résultat de afficher :\t 10\n",
      "********************\n",
      "Résultat global :\t 10\n"
     ]
    }
   ],
   "source": [
    "def afficher(a, b):\n",
    "    print(\"Paramètre en entrée :\\t\", a, b)\n",
    "    print(\"Résultat de afficher :\\t\", a + b)\n",
    "    return a + b\n",
    " \n",
    "resultat = reduce(afficher, range(5))\n",
    "print(\"*\"*20)\n",
    "print(\"Résultat global :\\t\", resultat)"
   ]
  },
  {
   "cell_type": "code",
   "execution_count": 32,
   "metadata": {},
   "outputs": [
    {
     "name": "stdout",
     "output_type": "stream",
     "text": [
      "Résultat global :\t 10\n"
     ]
    }
   ],
   "source": [
    "resultat = 0\n",
    "for unchiffre in range(5):\n",
    "    resultat += unchiffre\n",
    "print (\"Résultat global :\\t\", resultat)"
   ]
  },
  {
   "cell_type": "code",
   "execution_count": null,
   "metadata": {},
   "outputs": [],
   "source": []
  }
 ],
 "metadata": {
  "kernelspec": {
   "display_name": "Python 3",
   "language": "python",
   "name": "python3"
  },
  "language_info": {
   "codemirror_mode": {
    "name": "ipython",
    "version": 3
   },
   "file_extension": ".py",
   "mimetype": "text/x-python",
   "name": "python",
   "nbconvert_exporter": "python",
   "pygments_lexer": "ipython3",
   "version": "3.7.4"
  }
 },
 "nbformat": 4,
 "nbformat_minor": 2
}
