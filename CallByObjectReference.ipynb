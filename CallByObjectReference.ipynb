{
 "cells": [
  {
   "cell_type": "markdown",
   "metadata": {},
   "source": [
    "# Call by reference & Call by value\n",
    "\"Appel par référence ou par valeur\"\n",
    "\n",
    "Python est **\"Call by object reference\"**\n",
    "\n",
    "    - Pour des types non modifiables (int, float, str, tuple) cela s'apparente au \"Call by value\"\n",
    "\n",
    "    - Pour les types modifiables (list, dict, set) cela s'apparente au \"Call by reference\""
   ]
  },
  {
   "cell_type": "markdown",
   "metadata": {},
   "source": [
    "##  1 - Call by value"
   ]
  },
  {
   "cell_type": "code",
   "execution_count": 9,
   "metadata": {},
   "outputs": [
    {
     "name": "stdout",
     "output_type": "stream",
     "text": [
      "Dans la fonction slogan: LudikSciences & Python\n",
      "Hors de la fonction: LudikSciences\n"
     ]
    }
   ],
   "source": [
    "# call by value \n",
    " \n",
    "mystring = \"LudikSciences\"\n",
    " \n",
    "def slogan(string): \n",
    "    string = \"LudikSciences & Python\"\n",
    "    print(\"Dans la fonction slogan:\", string) \n",
    "      \n",
    "slogan(mystring)\n",
    "print(\"Hors de la fonction:\", mystring)"
   ]
  },
  {
   "cell_type": "markdown",
   "metadata": {},
   "source": [
    "##  2 - Call by reference"
   ]
  },
  {
   "cell_type": "code",
   "execution_count": 11,
   "metadata": {},
   "outputs": [
    {
     "name": "stdout",
     "output_type": "stream",
     "text": [
      "Dans la fonction [1, 'Rouge', (2, 3), 'Riri', 'Grincheux']\n",
      "Hors de la fonction [1, 'Rouge', (2, 3), 'Riri', 'Grincheux']\n"
     ]
    }
   ],
   "source": [
    "# call by reference \n",
    "\n",
    "mylist = [1,'Rouge',(2,3),'Riri'] \n",
    "  \n",
    "def ajouter_element(list): \n",
    "    list.append('Grincheux') \n",
    "    print(\"Dans la fonction\", list) \n",
    " \n",
    "ajouter_element(mylist)\n",
    "print(\"Hors de la fonction\", mylist)"
   ]
  },
  {
   "cell_type": "code",
   "execution_count": null,
   "metadata": {},
   "outputs": [],
   "source": []
  }
 ],
 "metadata": {
  "kernelspec": {
   "display_name": "Python 3",
   "language": "python",
   "name": "python3"
  },
  "language_info": {
   "codemirror_mode": {
    "name": "ipython",
    "version": 3
   },
   "file_extension": ".py",
   "mimetype": "text/x-python",
   "name": "python",
   "nbconvert_exporter": "python",
   "pygments_lexer": "ipython3",
   "version": "3.7.4"
  }
 },
 "nbformat": 4,
 "nbformat_minor": 2
}
