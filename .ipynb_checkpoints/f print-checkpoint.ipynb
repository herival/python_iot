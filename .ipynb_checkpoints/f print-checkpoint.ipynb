{
 "cells": [
  {
   "cell_type": "code",
   "execution_count": 1,
   "id": "super-family",
   "metadata": {},
   "outputs": [
    {
     "data": {
      "text/plain": [
       "'Salut Georges'"
      ]
     },
     "execution_count": 1,
     "metadata": {},
     "output_type": "execute_result"
    }
   ],
   "source": [
    "nom='Georges'\n",
    "f'Salut {nom}'"
   ]
  },
  {
   "cell_type": "code",
   "execution_count": 3,
   "id": "unexpected-moldova",
   "metadata": {},
   "outputs": [
    {
     "data": {
      "text/plain": [
       "'Pi'"
      ]
     },
     "execution_count": 3,
     "metadata": {},
     "output_type": "execute_result"
    }
   ],
   "source": [
    "import math\n",
    "f'Pi'"
   ]
  },
  {
   "cell_type": "code",
   "execution_count": 4,
   "id": "supposed-malawi",
   "metadata": {},
   "outputs": [
    {
     "data": {
      "text/plain": [
       "'3.14159'"
      ]
     },
     "execution_count": 4,
     "metadata": {},
     "output_type": "execute_result"
    }
   ],
   "source": [
    "f'{math.pi:.5f}'"
   ]
  },
  {
   "cell_type": "markdown",
   "id": "protected-breakfast",
   "metadata": {},
   "source": [
    "### 5 chiffres après la virgules"
   ]
  },
  {
   "cell_type": "markdown",
   "id": "enormous-rebel",
   "metadata": {},
   "source": []
  }
 ],
 "metadata": {
  "kernelspec": {
   "display_name": "Python 3",
   "language": "python",
   "name": "python3"
  },
  "language_info": {
   "codemirror_mode": {
    "name": "ipython",
    "version": 3
   },
   "file_extension": ".py",
   "mimetype": "text/x-python",
   "name": "python",
   "nbconvert_exporter": "python",
   "pygments_lexer": "ipython3",
   "version": "3.9.1"
  }
 },
 "nbformat": 4,
 "nbformat_minor": 5
}
