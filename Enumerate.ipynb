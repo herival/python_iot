{
 "cells": [
  {
   "cell_type": "code",
   "execution_count": 1,
   "metadata": {},
   "outputs": [],
   "source": [
    "neveux = ['Riri', 'Fifi', 'Loulou']\n",
    "nains = ['Prof', 'Timide', 'Atchoum', 'Dormeur', 'Joyeux', 'Grincheux', 'Simplet']"
   ]
  },
  {
   "cell_type": "code",
   "execution_count": 2,
   "metadata": {},
   "outputs": [
    {
     "data": {
      "text/plain": [
       "<enumerate at 0x4013e90>"
      ]
     },
     "execution_count": 2,
     "metadata": {},
     "output_type": "execute_result"
    }
   ],
   "source": [
    "enumerate(nains)"
   ]
  },
  {
   "cell_type": "code",
   "execution_count": 3,
   "metadata": {},
   "outputs": [
    {
     "data": {
      "text/plain": [
       "[(0, 'Prof'),\n",
       " (1, 'Timide'),\n",
       " (2, 'Atchoum'),\n",
       " (3, 'Dormeur'),\n",
       " (4, 'Joyeux'),\n",
       " (5, 'Grincheux'),\n",
       " (6, 'Simplet')]"
      ]
     },
     "execution_count": 3,
     "metadata": {},
     "output_type": "execute_result"
    }
   ],
   "source": [
    "list(enumerate(nains))"
   ]
  },
  {
   "cell_type": "code",
   "execution_count": 4,
   "metadata": {},
   "outputs": [
    {
     "data": {
      "text/plain": [
       "[(1, 'Prof'),\n",
       " (2, 'Timide'),\n",
       " (3, 'Atchoum'),\n",
       " (4, 'Dormeur'),\n",
       " (5, 'Joyeux'),\n",
       " (6, 'Grincheux'),\n",
       " (7, 'Simplet')]"
      ]
     },
     "execution_count": 4,
     "metadata": {},
     "output_type": "execute_result"
    }
   ],
   "source": [
    "list(enumerate(nains,1))"
   ]
  },
  {
   "cell_type": "code",
   "execution_count": 5,
   "metadata": {},
   "outputs": [],
   "source": [
    "ensemble = set(nains)"
   ]
  },
  {
   "cell_type": "code",
   "execution_count": 6,
   "metadata": {},
   "outputs": [
    {
     "data": {
      "text/plain": [
       "{'Atchoum', 'Dormeur', 'Grincheux', 'Joyeux', 'Prof', 'Simplet', 'Timide'}"
      ]
     },
     "execution_count": 6,
     "metadata": {},
     "output_type": "execute_result"
    }
   ],
   "source": [
    "ensemble"
   ]
  },
  {
   "cell_type": "code",
   "execution_count": 7,
   "metadata": {},
   "outputs": [
    {
     "data": {
      "text/plain": [
       "[(0, 'Timide'),\n",
       " (1, 'Simplet'),\n",
       " (2, 'Atchoum'),\n",
       " (3, 'Joyeux'),\n",
       " (4, 'Grincheux'),\n",
       " (5, 'Prof'),\n",
       " (6, 'Dormeur')]"
      ]
     },
     "execution_count": 7,
     "metadata": {},
     "output_type": "execute_result"
    }
   ],
   "source": [
    "list(enumerate(ensemble))"
   ]
  },
  {
   "cell_type": "code",
   "execution_count": 8,
   "metadata": {},
   "outputs": [
    {
     "data": {
      "text/plain": [
       "{(0, 'Timide'),\n",
       " (1, 'Simplet'),\n",
       " (2, 'Atchoum'),\n",
       " (3, 'Joyeux'),\n",
       " (4, 'Grincheux'),\n",
       " (5, 'Prof'),\n",
       " (6, 'Dormeur')}"
      ]
     },
     "execution_count": 8,
     "metadata": {},
     "output_type": "execute_result"
    }
   ],
   "source": [
    "set(enumerate(ensemble))"
   ]
  },
  {
   "cell_type": "code",
   "execution_count": 9,
   "metadata": {},
   "outputs": [
    {
     "data": {
      "text/plain": [
       "{0: 'Timide',\n",
       " 1: 'Simplet',\n",
       " 2: 'Atchoum',\n",
       " 3: 'Joyeux',\n",
       " 4: 'Grincheux',\n",
       " 5: 'Prof',\n",
       " 6: 'Dormeur'}"
      ]
     },
     "execution_count": 9,
     "metadata": {},
     "output_type": "execute_result"
    }
   ],
   "source": [
    "dict(enumerate(ensemble))"
   ]
  },
  {
   "cell_type": "code",
   "execution_count": null,
   "metadata": {},
   "outputs": [],
   "source": []
  }
 ],
 "metadata": {
  "kernelspec": {
   "display_name": "Python 3",
   "language": "python",
   "name": "python3"
  },
  "language_info": {
   "codemirror_mode": {
    "name": "ipython",
    "version": 3
   },
   "file_extension": ".py",
   "mimetype": "text/x-python",
   "name": "python",
   "nbconvert_exporter": "python",
   "pygments_lexer": "ipython3",
   "version": "3.7.1"
  }
 },
 "nbformat": 4,
 "nbformat_minor": 2
}
