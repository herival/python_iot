{
 "cells": [
  {
   "attachments": {},
   "cell_type": "markdown",
   "metadata": {},
   "source": [
    "# Décorateur\n",
    "\n",
    "Les décorateurs sont des fonctions dont le rôle est de modifier le comportement par défaut d'autres fonctions ou classes"
   ]
  },
  {
   "cell_type": "code",
   "execution_count": 1,
   "metadata": {},
   "outputs": [],
   "source": [
    "def mon_decorateur(fonction):\n",
    "    \"\"\"Ceci est la fontion du décorateur\"\"\"\n",
    "    \n",
    "    def fonction_modifiee():\n",
    "        \"\"\"Notre fonction modifée va afficher une information avant d'exécuter\n",
    "        la fonction d'origine Salut\"\"\"\n",
    "        \n",
    "        print(\"Nous sommes dans le décorateur et allons afficher {0}\".format(fonction))\n",
    "        return fonction()\n",
    "    return fonction_modifiee\n",
    "\n",
    "@mon_decorateur\n",
    "def ma_fonction_originale():\n",
    "    print(\"Nous sommes dans la fonction originale\")"
   ]
  },
  {
   "cell_type": "code",
   "execution_count": 2,
   "metadata": {},
   "outputs": [
    {
     "name": "stdout",
     "output_type": "stream",
     "text": [
      "Nous sommes dans le décorateur et allons afficher <function ma_fonction_originale at 0x052BC930>\n",
      "Nous sommes dans la fonction originale\n"
     ]
    }
   ],
   "source": [
    "ma_fonction_originale()"
   ]
  },
  {
   "cell_type": "code",
   "execution_count": null,
   "metadata": {},
   "outputs": [],
   "source": []
  }
 ],
 "metadata": {
  "kernelspec": {
   "display_name": "Python 3",
   "language": "python",
   "name": "python3"
  },
  "language_info": {
   "codemirror_mode": {
    "name": "ipython",
    "version": 3
   },
   "file_extension": ".py",
   "mimetype": "text/x-python",
   "name": "python",
   "nbconvert_exporter": "python",
   "pygments_lexer": "ipython3",
   "version": "3.7.4"
  }
 },
 "nbformat": 4,
 "nbformat_minor": 2
}
