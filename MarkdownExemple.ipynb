{
 "cells": [
  {
   "cell_type": "code",
   "execution_count": null,
   "metadata": {},
   "outputs": [],
   "source": [
    "# Titre Niveau 1\n",
    "## Titre Niveau 2\n",
    "### Titre Niveau 3\n",
    "**En gras**\n",
    "\n",
    "*En italique*\n",
    "\n",
    "<ins> souligné </ins>\n",
    "\n",
    "> citation\n",
    "\n",
    "1. Premier élément\n",
    "2. Deuxième élément\n",
    "3. Troisième élément\n",
    "\n",
    "\n",
    "- Premier élément\n",
    "- Deuxième élément\n",
    "- Troisième élément\n",
    "\n",
    "`ceci est représente du code`\n",
    "\n",
    "```python\n",
    "print \"Hello World\"\n",
    "```\n",
    "\n",
    "---\n",
    "***\n",
    "___\n",
    "\n",
    "[lien vers python.org](https://www.python.org)\n",
    "\n",
    "![texte alternatif à une image](https://www.python.org/static/img/python-logo.png)\n",
    "\n",
    "\n",
    "| Syntax | Description |\n",
    "| ----------- | ----------- |\n",
    "| Header | Title |\n",
    "| Paragraph | Text |\n",
    "\n",
    "\n",
    "~~ La terre est plate ~~\n",
    "\n",
    "\n",
    "- [x] Faire des exercice Markdown\n",
    "- [ ] Réviser NETACAD\n",
    "- [ ] Remplir le formulaire de satisfaction"
   ]
  },
  {
   "cell_type": "code",
   "execution_count": null,
   "metadata": {},
   "outputs": [],
   "source": []
  }
 ],
 "metadata": {
  "kernelspec": {
   "display_name": "Python 3",
   "language": "python",
   "name": "python3"
  },
  "language_info": {
   "codemirror_mode": {
    "name": "ipython",
    "version": 3
   },
   "file_extension": ".py",
   "mimetype": "text/x-python",
   "name": "python",
   "nbconvert_exporter": "python",
   "pygments_lexer": "ipython3",
   "version": "3.9.1"
  }
 },
 "nbformat": 4,
 "nbformat_minor": 2
}
